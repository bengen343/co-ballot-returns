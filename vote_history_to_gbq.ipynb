{
 "cells": [
  {
   "cell_type": "code",
   "execution_count": 1,
   "metadata": {},
   "outputs": [],
   "source": [
    "import pandas as pd\n",
    "\n",
    "import glob\n",
    "\n",
    "from google.oauth2 import service_account\n",
    "# from oauth2client.service_account import ServiceAccountCredentials"
   ]
  },
  {
   "cell_type": "code",
   "execution_count": 2,
   "metadata": {},
   "outputs": [],
   "source": [
    "voter_history_directory = r'C:\\Users\\thewh\\Documents\\Master Voting History'\n",
    "\n",
    "# Google Service Credential JSON <- You'll need your own!\n",
    "# gs_credentials = ServiceAccountCredentials.from_json_keyfile_name('cpc-datawarehouse-51210-cbbf1375a84e.json')\n",
    "# Establish BigQuery credentials\n",
    "bq_credentials = service_account.Credentials.from_service_account_file(\n",
    "    'cpc-datawarehouse-51210-cbbf1375a84e.json', scopes=[\"https://www.googleapis.com/auth/cloud-platform\"],\n",
    ")\n",
    "\n",
    "bq_project_id = 'cpc-datawarehouse-51210'\n",
    "bq_table_id = 'cpc-datawarehouse-51210.co_voterfile.vote-history'\n",
    "\n",
    "bq_schema_list = [\n",
    "    {'name': 'VOTER_ID', 'type': 'STRING', 'mode': 'REQUIRED'},\n",
    "    {'name': 'ELECTION_TYPE', 'type': 'STRING', 'mode': 'REQUIRED'},\n",
    "    {'name': 'ELECTION_DATE', 'type': 'DATETIME', 'mode': 'REQUIRED'},\n",
    "    {'name': 'ELECTION_DESCRIPTION', 'type': 'STRING', 'mode': 'REQUIRED'},\n",
    "    {'name': 'VOTING_METHOD', 'type': 'STRING', 'mode': 'REQUIRED'},\n",
    "    {'name': 'PARTY', 'type': 'STRING', 'mode': 'NULLABLE'},\n",
    "    {'name': 'COUNTY_NAME', 'type': 'STRING', 'mode': 'NULLABLE'}\n",
    "]"
   ]
  },
  {
   "cell_type": "code",
   "execution_count": 3,
   "metadata": {},
   "outputs": [
    {
     "name": "stdout",
     "output_type": "stream",
     "text": [
      "Beginning to assemble vote history file.\n"
     ]
    }
   ],
   "source": [
    "# Load vote history data frame\n",
    "print(\"Beginning to assemble vote history file.\")\n",
    "\n",
    "allfiles = glob.glob(voter_history_directory + \"/*.txt\")\n",
    "history_df = pd.DataFrame()\n",
    "_lst = []\n",
    "for _file in allfiles:\n",
    "    _df = pd.read_csv(_file, sep=',', encoding='cp437', index_col=None, header=0, low_memory=False)\n",
    "    _lst.append(_df)\n",
    "history_df = pd.concat(_lst)\n",
    "\n",
    "history_df.reset_index(drop=True, inplace=True)"
   ]
  },
  {
   "cell_type": "code",
   "execution_count": 4,
   "metadata": {},
   "outputs": [
    {
     "name": "stdout",
     "output_type": "stream",
     "text": [
      "VOTER_ID\n",
      "ELECTION_TYPE\n",
      "ELECTION_DATE\n",
      "ELECTION_DESCRIPTION\n",
      "VOTING_METHOD\n",
      "PARTY\n",
      "COUNTY_NAME\n",
      "Datetime\n"
     ]
    }
   ],
   "source": [
    "for column in list(history_df):\n",
    "    print(column)\n",
    "    history_df[column] = history_df[column].apply(str)\n",
    "\n",
    "print(\"Datetime\")\n",
    "history_df['ELECTION_DATE'] = pd.to_datetime(history_df['ELECTION_DATE'], format='%m/%d/%Y', infer_datetime_format=True)"
   ]
  },
  {
   "cell_type": "code",
   "execution_count": 5,
   "metadata": {},
   "outputs": [
    {
     "name": "stderr",
     "output_type": "stream",
     "text": [
      "100%|██████████| 1/1 [00:00<00:00, 499.68it/s]\n"
     ]
    }
   ],
   "source": [
    "history_df.to_gbq(destination_table=bq_table_id, project_id=bq_project_id, if_exists='replace', table_schema=bq_schema_list, credentials=bq_credentials)"
   ]
  },
  {
   "cell_type": "code",
   "execution_count": 6,
   "metadata": {},
   "outputs": [],
   "source": [
    "del history_df"
   ]
  },
  {
   "cell_type": "code",
   "execution_count": null,
   "metadata": {},
   "outputs": [],
   "source": []
  }
 ],
 "metadata": {
  "kernelspec": {
   "display_name": "Python 3.9.13 ('.venv': venv)",
   "language": "python",
   "name": "python3"
  },
  "language_info": {
   "codemirror_mode": {
    "name": "ipython",
    "version": 3
   },
   "file_extension": ".py",
   "mimetype": "text/x-python",
   "name": "python",
   "nbconvert_exporter": "python",
   "pygments_lexer": "ipython3",
   "version": "3.9.13"
  },
  "orig_nbformat": 4,
  "vscode": {
   "interpreter": {
    "hash": "93007c62e02ff49cbc6d35deeae2d52c767854325e8295ed23a5f81148a61ffb"
   }
  }
 },
 "nbformat": 4,
 "nbformat_minor": 2
}
