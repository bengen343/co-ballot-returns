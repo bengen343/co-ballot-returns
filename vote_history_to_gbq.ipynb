{
 "cells": [
  {
   "cell_type": "code",
   "execution_count": null,
   "metadata": {},
   "outputs": [],
   "source": [
    "import pandas as pd\n",
    "\n",
    "import glob\n",
    "\n",
    "from google.oauth2 import service_account\n",
    "# from oauth2client.service_account import ServiceAccountCredentials"
   ]
  },
  {
   "cell_type": "code",
   "execution_count": null,
   "metadata": {},
   "outputs": [],
   "source": [
    "voter_history_directory = r'D:\\Users\\bengen343\\Documents\\Master Voting History'\n",
    "\n",
    "# Google Service Credential JSON <- You'll need your own!\n",
    "# gs_credentials = ServiceAccountCredentials.from_json_keyfile_name('cpc-datawarehouse-51210-cbbf1375a84e.json')\n",
    "# Establish BigQuery credentials\n",
    "bq_credentials = service_account.Credentials.from_service_account_file(\n",
    "    'cpc-datawarehouse-51210-cbbf1375a84e.json', scopes=[\"https://www.googleapis.com/auth/cloud-platform\"],\n",
    ")\n",
    "\n",
    "bq_project_id = 'cpc-datawarehouse-51210'\n",
    "bq_table_id = 'cpc-datawarehouse-51210.co_voterfile.vote_history'\n",
    "\n",
    "bq_schema_list = [\n",
    "    {'name': 'VOTER_ID', 'type': 'STRING', 'mode': 'REQUIRED'},\n",
    "    {'name': 'ELECTION_TYPE', 'type': 'STRING', 'mode': 'REQUIRED'},\n",
    "    {'name': 'ELECTION_DATE', 'type': 'DATETIME', 'mode': 'REQUIRED'},\n",
    "    {'name': 'ELECTION_DESCRIPTION', 'type': 'STRING', 'mode': 'REQUIRED'},\n",
    "    {'name': 'VOTING_METHOD', 'type': 'STRING', 'mode': 'REQUIRED'},\n",
    "    {'name': 'PARTY', 'type': 'STRING', 'mode': 'NULLABLE'},\n",
    "    {'name': 'COUNTY_NAME', 'type': 'STRING', 'mode': 'NULLABLE'}\n",
    "]"
   ]
  },
  {
   "cell_type": "code",
   "execution_count": null,
   "metadata": {},
   "outputs": [],
   "source": [
    "# Load vote history data frame\n",
    "print(\"Beginning to assemble vote history file.\")\n",
    "\n",
    "allFiles = glob.glob(voter_history_directory + \"/*.txt\")\n",
    "history_df = pd.DataFrame()\n",
    "list_ = []\n",
    "for file_ in allFiles:\n",
    "    df = pd.read_csv(file_, sep=\",\", encoding='cp437', index_col=None, header=0, low_memory=False)\n",
    "    list_.append(df)\n",
    "history_df = pd.concat(list_)\n",
    "\n",
    "history_df.reset_index(drop=True, inplace=True)"
   ]
  },
  {
   "cell_type": "code",
   "execution_count": null,
   "metadata": {},
   "outputs": [],
   "source": [
    "history_df.to_gbq(destination_table=bq_table_id, project_id=bq_project_id, if_exists='replace', table_schema=bq_schema_list, credentials=bq_credentials)"
   ]
  },
  {
   "cell_type": "code",
   "execution_count": null,
   "metadata": {},
   "outputs": [],
   "source": []
  }
 ],
 "metadata": {
  "interpreter": {
   "hash": "ac919ce1eca2b5957c0b876c14f56d98957ea0eb4581c6380069be0c54520a82"
  },
  "kernelspec": {
   "display_name": "Python 3.7.3 ('.venv': venv)",
   "language": "python",
   "name": "python3"
  },
  "language_info": {
   "codemirror_mode": {
    "name": "ipython",
    "version": 3
   },
   "file_extension": ".py",
   "mimetype": "text/x-python",
   "name": "python",
   "nbconvert_exporter": "python",
   "pygments_lexer": "ipython3",
   "version": "3.7.3"
  },
  "orig_nbformat": 4
 },
 "nbformat": 4,
 "nbformat_minor": 2
}
