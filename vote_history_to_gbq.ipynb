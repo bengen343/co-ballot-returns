{
 "cells": [
  {
   "cell_type": "code",
   "execution_count": null,
   "metadata": {},
   "outputs": [],
   "source": [
    "import pandas as pd\n",
    "\n",
    "import glob\n",
    "\n",
    "from google.oauth2 import service_account\n",
    "from transform_co_returns import set_dtypes_on\n",
    "from load_to_gcp import create_bq_schema\n",
    "# from oauth2client.service_account import ServiceAccountCredentials"
   ]
  },
  {
   "cell_type": "code",
   "execution_count": null,
   "metadata": {},
   "outputs": [],
   "source": [
    "voter_history_directory = r'C:\\Users\\thewh\\Documents\\Master Voting History'\n",
    "\n",
    "# Google Service Credential JSON <- You'll need your own!\n",
    "# gs_credentials = ServiceAccountCredentials.from_json_keyfile_name('cpc-datawarehouse-51210-cbbf1375a84e.json')\n",
    "# Establish BigQuery credentials\n",
    "bq_credentials = service_account.Credentials.from_service_account_file(\n",
    "    'cpc-datawarehouse-51210-cbbf1375a84e.json', scopes=[\"https://www.googleapis.com/auth/cloud-platform\"],\n",
    ")\n",
    "\n",
    "bq_project_id = 'cpc-datawarehouse-51210'\n",
    "bq_table_id = 'cpc-datawarehouse-51210.co_voterfile.vote-history'\n",
    "\n",
    "history_integer_col_lst = [\n",
    "    'VOTER_ID'\n",
    "]"
   ]
  },
  {
   "cell_type": "code",
   "execution_count": null,
   "metadata": {},
   "outputs": [],
   "source": [
    "# Load vote history data frame\n",
    "print(\"Beginning to assemble vote history file.\")\n",
    "\n",
    "allfiles = glob.glob(voter_history_directory + \"/*.txt\")\n",
    "history_df = pd.DataFrame()\n",
    "_lst = []\n",
    "for _file in allfiles:\n",
    "    if 'Voting_History' in _file:\n",
    "        print(f\"Loading {_file}\")\n",
    "        _df = pd.read_csv(_file, sep=',', encoding='cp437', index_col=None, header=0, low_memory=False)\n",
    "        _lst.append(_df)\n",
    "\n",
    "history_df = pd.concat(_lst)\n",
    "history_df.reset_index(drop=True, inplace=True)\n",
    "print(\"Finished assembling vote history file.\")"
   ]
  },
  {
   "cell_type": "code",
   "execution_count": null,
   "metadata": {},
   "outputs": [],
   "source": [
    "history_df = set_dtypes_on(history_df, history_integer_col_lst)"
   ]
  },
  {
   "cell_type": "code",
   "execution_count": null,
   "metadata": {},
   "outputs": [],
   "source": [
    "bq_schema_lst = create_bq_schema(history_df, history_integer_col_lst)\n",
    "history_df.to_gbq(destination_table=bq_table_id, project_id=bq_project_id, if_exists='replace', table_schema=bq_schema_lst, credentials=bq_credentials)"
   ]
  },
  {
   "cell_type": "code",
   "execution_count": null,
   "metadata": {},
   "outputs": [],
   "source": [
    "del history_df"
   ]
  },
  {
   "cell_type": "code",
   "execution_count": null,
   "metadata": {},
   "outputs": [],
   "source": []
  }
 ],
 "metadata": {
  "kernelspec": {
   "display_name": "Python 3.9.13 ('.venv': venv)",
   "language": "python",
   "name": "python3"
  },
  "language_info": {
   "codemirror_mode": {
    "name": "ipython",
    "version": 3
   },
   "file_extension": ".py",
   "mimetype": "text/x-python",
   "name": "python",
   "nbconvert_exporter": "python",
   "pygments_lexer": "ipython3",
   "version": "3.9.13"
  },
  "orig_nbformat": 4,
  "vscode": {
   "interpreter": {
    "hash": "93007c62e02ff49cbc6d35deeae2d52c767854325e8295ed23a5f81148a61ffb"
   }
  }
 },
 "nbformat": 4,
 "nbformat_minor": 2
}
